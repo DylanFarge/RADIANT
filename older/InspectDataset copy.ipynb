{
 "cells": [
  {
   "cell_type": "code",
   "execution_count": 1,
   "metadata": {},
   "outputs": [
    {
     "name": "stdout",
     "output_type": "stream",
     "text": [
      "Changing directory to RADIANT\n",
      "/home/dylan/RADIANT\n"
     ]
    }
   ],
   "source": [
    "import os\n",
    "if os.path.basename(os.getcwd()) != \"RADIANT\":\n",
    "    print(\"Changing directory to RADIANT\")\n",
    "    os.chdir(\"..\")\n",
    "print(os.getcwd())\n",
    "import numpy as np\n",
    "import matplotlib.pyplot as plt\n",
    "import pandas as pd\n",
    "from ipywidgets import interact, fixed\n",
    "\n",
    "from ConstructVisibilities.construct_visibilities import construct_visibilities, plot_bases"
   ]
  },
  {
   "cell_type": "code",
   "execution_count": 2,
   "metadata": {},
   "outputs": [
    {
     "ename": "FileNotFoundError",
     "evalue": "[Errno 2] No such file or directory: 'ConstructData/results/names_train_val.npy'",
     "output_type": "error",
     "traceback": [
      "\u001b[0;31m---------------------------------------------------------------------------\u001b[0m",
      "\u001b[0;31mFileNotFoundError\u001b[0m                         Traceback (most recent call last)",
      "Cell \u001b[0;32mIn[2], line 2\u001b[0m\n\u001b[1;32m      1\u001b[0m directory \u001b[38;5;241m=\u001b[39m \u001b[38;5;124m\"\u001b[39m\u001b[38;5;124mConstructData/results/\u001b[39m\u001b[38;5;124m\"\u001b[39m\n\u001b[0;32m----> 2\u001b[0m names \u001b[38;5;241m=\u001b[39m \u001b[43mnp\u001b[49m\u001b[38;5;241;43m.\u001b[39;49m\u001b[43mload\u001b[49m\u001b[43m(\u001b[49m\u001b[43mdirectory\u001b[49m\u001b[43m \u001b[49m\u001b[38;5;241;43m+\u001b[39;49m\u001b[43m \u001b[49m\u001b[38;5;124;43m\"\u001b[39;49m\u001b[38;5;124;43mnames_train_val.npy\u001b[39;49m\u001b[38;5;124;43m\"\u001b[39;49m\u001b[43m)\u001b[49m\n\u001b[1;32m      4\u001b[0m \u001b[38;5;28;01mwith\u001b[39;00m \u001b[38;5;28mopen\u001b[39m(directory \u001b[38;5;241m+\u001b[39m \u001b[38;5;124m\"\u001b[39m\u001b[38;5;124maugmented_images_clip.txt\u001b[39m\u001b[38;5;124m\"\u001b[39m, \u001b[38;5;124m\"\u001b[39m\u001b[38;5;124mrb\u001b[39m\u001b[38;5;124m\"\u001b[39m) \u001b[38;5;28;01mas\u001b[39;00m file:\n\u001b[1;32m      5\u001b[0m     X_aug \u001b[38;5;241m=\u001b[39m []\n",
      "File \u001b[0;32m~/.local/lib/python3.12/site-packages/numpy/lib/npyio.py:427\u001b[0m, in \u001b[0;36mload\u001b[0;34m(file, mmap_mode, allow_pickle, fix_imports, encoding, max_header_size)\u001b[0m\n\u001b[1;32m    425\u001b[0m     own_fid \u001b[38;5;241m=\u001b[39m \u001b[38;5;28;01mFalse\u001b[39;00m\n\u001b[1;32m    426\u001b[0m \u001b[38;5;28;01melse\u001b[39;00m:\n\u001b[0;32m--> 427\u001b[0m     fid \u001b[38;5;241m=\u001b[39m stack\u001b[38;5;241m.\u001b[39menter_context(\u001b[38;5;28;43mopen\u001b[39;49m\u001b[43m(\u001b[49m\u001b[43mos_fspath\u001b[49m\u001b[43m(\u001b[49m\u001b[43mfile\u001b[49m\u001b[43m)\u001b[49m\u001b[43m,\u001b[49m\u001b[43m \u001b[49m\u001b[38;5;124;43m\"\u001b[39;49m\u001b[38;5;124;43mrb\u001b[39;49m\u001b[38;5;124;43m\"\u001b[39;49m\u001b[43m)\u001b[49m)\n\u001b[1;32m    428\u001b[0m     own_fid \u001b[38;5;241m=\u001b[39m \u001b[38;5;28;01mTrue\u001b[39;00m\n\u001b[1;32m    430\u001b[0m \u001b[38;5;66;03m# Code to distinguish from NumPy binary files and pickles.\u001b[39;00m\n",
      "\u001b[0;31mFileNotFoundError\u001b[0m: [Errno 2] No such file or directory: 'ConstructData/results/names_train_val.npy'"
     ]
    }
   ],
   "source": [
    "directory = \"ConstructData/results/\"\n",
    "names = np.load(directory + \"names_train_val.npy\")\n",
    "\n",
    "with open(directory + \"augmented_images_clip.txt\", \"rb\") as file:\n",
    "    X_aug = []\n",
    "    while True:\n",
    "        try:\n",
    "            X_aug.append(np.load(file, allow_pickle=True))\n",
    "        except EOFError:\n",
    "            print(\"\\nDone loading aug!\")\n",
    "            break\n",
    "\n",
    "X = np.load(directory + \"X_train_val_clip.npy\")\n",
    "\n",
    "with open(directory + \"augmented_images_no_clip.txt\", \"rb\") as file:\n",
    "    X_aug_NC = []\n",
    "    while True:\n",
    "        try:\n",
    "            X_aug_NC.append(np.load(file, allow_pickle=True))\n",
    "        except EOFError:\n",
    "            print(\"\\nDone loading aug_NC!\")\n",
    "            break\n",
    "\n",
    "X_NC = np.load(directory + \"X_train_val_no_clip.npy\")\n"
   ]
  },
  {
   "cell_type": "code",
   "execution_count": null,
   "metadata": {},
   "outputs": [
    {
     "data": {
      "application/vnd.jupyter.widget-view+json": {
       "model_id": "8b2915d0ac7340b8889af12361f70ece",
       "version_major": 2,
       "version_minor": 0
      },
      "text/plain": [
       "interactive(children=(IntSlider(value=479, description='index', max=959), Checkbox(value=True, description='cl…"
      ]
     },
     "metadata": {},
     "output_type": "display_data"
    },
    {
     "data": {
      "text/plain": [
       "<function __main__.show(index, clipped, X, X_aug, names, X_NC, X_aug_NC)>"
      ]
     },
     "execution_count": 3,
     "metadata": {},
     "output_type": "execute_result"
    }
   ],
   "source": [
    "def show(index, clipped, X, X_aug, names, X_NC, X_aug_NC):\n",
    "    if clipped:\n",
    "        new_dataset = construct_visibilities(np.expand_dims(X[index], axis=0), names=names[index], save_plots=True)\n",
    "        # new_dataset = construct_visibilities(X_aug[index], names=names[index], save_plots=True)\n",
    "        plot_bases(new_dataset, source_index=0)\n",
    "\n",
    "    else:\n",
    "        \n",
    "        new_dataset = construct_visibilities(np.expand_dims(X_NC[index], axis=0), names=names[index], save_plots=True)\n",
    "        # new_dataset = construct_visibilities(X_aug_NC[index], names=names[index], save_plots=True)\n",
    "        plot_bases(new_dataset, source_index=0)\n",
    "\n",
    "interact(show, index=(0, len(names)-1, 1), X=fixed(X), X_aug=fixed(X_aug), names=fixed(names), clipped=True, X_NC=fixed(X_NC), X_aug_NC=fixed(X_aug_NC))"
   ]
  }
 ],
 "metadata": {
  "kernelspec": {
   "display_name": "Python 3",
   "language": "python",
   "name": "python3"
  },
  "language_info": {
   "codemirror_mode": {
    "name": "ipython",
    "version": 3
   },
   "file_extension": ".py",
   "mimetype": "text/x-python",
   "name": "python",
   "nbconvert_exporter": "python",
   "pygments_lexer": "ipython3",
   "version": "3.12.3"
  }
 },
 "nbformat": 4,
 "nbformat_minor": 2
}
