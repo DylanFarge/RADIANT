{
 "cells": [
  {
   "cell_type": "code",
   "execution_count": 5,
   "metadata": {},
   "outputs": [
    {
     "name": "stdout",
     "output_type": "stream",
     "text": [
      "Changing directory to RADIANT\n"
     ]
    },
    {
     "name": "stderr",
     "output_type": "stream",
     "text": [
      "2024-05-24 12:52:16.350876: I tensorflow/core/util/port.cc:113] oneDNN custom operations are on. You may see slightly different numerical results due to floating-point round-off errors from different computation orders. To turn them off, set the environment variable `TF_ENABLE_ONEDNN_OPTS=0`.\n",
      "2024-05-24 12:52:16.381917: I external/local_tsl/tsl/cuda/cudart_stub.cc:32] Could not find cuda drivers on your machine, GPU will not be used.\n",
      "2024-05-24 12:52:16.641843: I external/local_tsl/tsl/cuda/cudart_stub.cc:32] Could not find cuda drivers on your machine, GPU will not be used.\n",
      "2024-05-24 12:52:17.658963: I tensorflow/core/platform/cpu_feature_guard.cc:210] This TensorFlow binary is optimized to use available CPU instructions in performance-critical operations.\n",
      "To enable the following instructions: AVX2 AVX_VNNI FMA, in other operations, rebuild TensorFlow with the appropriate compiler flags.\n",
      "2024-05-24 12:52:22.253728: W tensorflow/compiler/tf2tensorrt/utils/py_utils.cc:38] TF-TRT Warning: Could not find TensorRT\n"
     ]
    },
    {
     "name": "stdout",
     "output_type": "stream",
     "text": [
      "/home/dylan/RADIANT\n"
     ]
    }
   ],
   "source": [
    "import os\n",
    "import numpy as np\n",
    "import matplotlib.pyplot as plt\n",
    "from ipywidgets import interact, interactive, fixed, interact_manual\n",
    "from astropy.io import fits\n",
    "import pandas as pd\n",
    "from astropy.stats import sigma_clip\n",
    "\n",
    "if os.path.basename(os.getcwd()) != \"RADIANT\":\n",
    "    print(\"Changing directory to RADIANT\")\n",
    "    os.chdir(\"..\")\n",
    "from MachineLearning.process import crop_normalize\n",
    "print(os.getcwd())"
   ]
  },
  {
   "cell_type": "code",
   "execution_count": 6,
   "metadata": {},
   "outputs": [
    {
     "data": {
      "application/vnd.jupyter.widget-view+json": {
       "model_id": "d6279292cc504dd3baa2003e6e5e6997",
       "version_major": 2,
       "version_minor": 0
      },
      "text/plain": [
       "interactive(children=(Dropdown(description='index', options=(803, 817, 845, 846, 850, 874, 886, 904, 936, 944,…"
      ]
     },
     "metadata": {},
     "output_type": "display_data"
    },
    {
     "data": {
      "text/plain": [
       "<function __main__.show_images(index, sigma=3, norm=True, apply_clip=True, maxiters=5)>"
      ]
     },
     "execution_count": 6,
     "metadata": {},
     "output_type": "execute_result"
    }
   ],
   "source": [
    "# fits_folder = \"/mnt/c/Users/dylan/Documents/downloaded_images/same_pixels/\"\n",
    "fits_folder = \"downloaded_images/same_pixels/\"\n",
    "radcat = pd.read_csv(\"ConstructData/RADCAT_ML.csv\", index_col=0)\n",
    "channels = {\n",
    "    \"FIRST\":0,\n",
    "    \"LOFAR\":1,\n",
    "    \"NVSS\":2,\n",
    "}\n",
    "\n",
    "def show_images(index, sigma=3, norm=True, apply_clip=True, maxiters=5):\n",
    "# def show_images(index, sigma_lower=3, sigma_upper=3, norm=True, apply_clip=True):\n",
    "    fig, ax = plt.subplots(1, 3, figsize=(20, 5))\n",
    "    for file in [x for x in os.listdir(fits_folder) if x.startswith(f\"{index}_\")]:\n",
    "        channel = channels[file.split(\"_\")[1]]\n",
    "        morph = radcat.loc[index, \"Type\"]\n",
    "        \n",
    "        image = fits.getdata(fits_folder + file)\n",
    "        X = crop_normalize(X=np.expand_dims(image, axis=-1), crop_size=128, names=[index], only_crop=not norm)\n",
    "        image = X[0,:,:,0]\n",
    "        \n",
    "        if apply_clip:        \n",
    "            mask = sigma_clip(image, maxiters=maxiters, sigma=sigma).mask\n",
    "            # mask = sigma_clip(image, maxiters=maxiters, sigma_lower=sigma_lower, sigma_upper=sigma_upper).mask\n",
    "            image[~ mask] = None\n",
    "        \n",
    "        im = ax[channel].imshow(image, cmap=\"viridis\")\n",
    "        fig.colorbar(im, ax=ax[channel])\n",
    "        ax[channel].set_title(file.split(\"_\")[1])\n",
    "        fig.suptitle(f\"{index} - {morph}\")\n",
    "        \n",
    "    \n",
    "interact(show_images, index=radcat.index, sigma=(0.001, 3, 0.001), maxiters=5)\n",
    "# interact(show_images, index=radcat.index, sigma_lower=(0, 100, 1), sigma_upper=(0, 100, 1))\n",
    "#! 1660 is an issue\n",
    "#! 982 is hidden\n",
    "#! 1723 FIRST/LOFAR hard for Sigma Clipping"
   ]
  },
  {
   "cell_type": "code",
   "execution_count": 7,
   "metadata": {},
   "outputs": [
    {
     "data": {
      "application/vnd.jupyter.widget-view+json": {
       "model_id": "bdfd49f2c33e4c55a13c14f6c19f1ce2",
       "version_major": 2,
       "version_minor": 0
      },
      "text/plain": [
       "interactive(children=(Dropdown(description='index', options=(803, 817, 845, 846, 850, 874, 886, 904, 936, 944,…"
      ]
     },
     "metadata": {},
     "output_type": "display_data"
    },
    {
     "data": {
      "text/plain": [
       "<function __main__.show_images(index, sigma=3, norm=True, apply_clip=True, maxiters=5)>"
      ]
     },
     "execution_count": 7,
     "metadata": {},
     "output_type": "execute_result"
    }
   ],
   "source": [
    "# fits_folder = \"/mnt/c/Users/dylan/Documents/downloaded_images/same_pixels/\"\n",
    "fits_folder = \"downloaded_images/same_pixels/\"\n",
    "radcat = pd.read_csv(\"ConstructData/RADCAT_ML.csv\", index_col=0)\n",
    "channels = {\n",
    "    \"FIRST\":0,\n",
    "    \"LOFAR\":1,\n",
    "    \"NVSS\":2,\n",
    "}\n",
    "\n",
    "def show_images(index, sigma=3, norm=True, apply_clip=True, maxiters=5):\n",
    "# def show_images(index, sigma_lower=3, sigma_upper=3, norm=True, apply_clip=True):\n",
    "    fig, ax = plt.subplots(1, 3, figsize=(20, 5))\n",
    "    files = []\n",
    "    channel = []\n",
    "    for file in [x for x in os.listdir(fits_folder) if x.startswith(f\"{index}_\")]:\n",
    "        channel.append(channels[file.split(\"_\")[1]])\n",
    "        morph = radcat.loc[index, \"Type\"]\n",
    "        \n",
    "        image = fits.getdata(fits_folder + file)\n",
    "        \n",
    "        files.append(image)\n",
    "\n",
    "    files = np.array(files)\n",
    "    \n",
    "    files = np.expand_dims(files, axis=-1)\n",
    "\n",
    "    files = crop_normalize(X=files, crop_size=128, names=[index], only_crop=not norm)\n",
    "    \n",
    "    if apply_clip:        \n",
    "        mask = sigma_clip(files, maxiters=maxiters, sigma=sigma, axis= (1,2) ).mask\n",
    "        files[~ mask] = None\n",
    "\n",
    "    for i, c in enumerate(channel):\n",
    "        image = files[i]\n",
    "        \n",
    "        im = ax[c].imshow(image, cmap=\"viridis\")\n",
    "        fig.colorbar(im, ax=ax[c])\n",
    "        ax[c].set_title(list(channels.keys())[c])\n",
    "        fig.suptitle(f\"{index} - {morph}\")\n",
    "\n",
    "interact(show_images, index=radcat.index, sigma=(0.001, 3, 0.001), maxiters=5)\n",
    "# interact(show_images, index=radcat.index, sigma_lower=(0, 100, 1), sigma_upper=(0, 100, 1))\n",
    "#! 1660 is an issue\n",
    "#! 982 is hidden"
   ]
  }
 ],
 "metadata": {
  "kernelspec": {
   "display_name": "Python 3",
   "language": "python",
   "name": "python3"
  },
  "language_info": {
   "codemirror_mode": {
    "name": "ipython",
    "version": 3
   },
   "file_extension": ".py",
   "mimetype": "text/x-python",
   "name": "python",
   "nbconvert_exporter": "python",
   "pygments_lexer": "ipython3",
   "version": "3.10.6"
  }
 },
 "nbformat": 4,
 "nbformat_minor": 2
}
